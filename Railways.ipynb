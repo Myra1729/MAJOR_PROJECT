{
 "cells": [
  {
   "cell_type": "code",
   "execution_count": 1,
   "id": "e873ec18-9f41-4b79-a861-4d57197f29c4",
   "metadata": {},
   "outputs": [
    {
     "name": "stdout",
     "output_type": "stream",
     "text": [
      "type\n",
      "rail    32.180532\n",
      "Name: road_area_km2, dtype: float64\n"
     ]
    }
   ],
   "source": [
    "import geopandas as gpd\n",
    "roads = gpd.read_file(\"C:\\\\Users\\\\ghosh\\\\Downloads\\\\maps\\\\kolkata\\\\shape\\\\railways.shp\")# Load the roads shapefile\n",
    "roads = roads.to_crs(epsg=32645)  \n",
    "selected_types = [\"rail\"]\n",
    "roads = roads[roads[\"type\"].isin(selected_types)]\n",
    "road_widths = {\"rail\": 0.025}\n",
    "roads[\"width_km\"] = roads[\"type\"].map(road_widths)\n",
    "roads[\"length_km\"] = roads.geometry.length/1000  # Compute road lengths in km\n",
    "roads[\"road_area_km2\"] = roads[\"length_km\"] * roads[\"width_km\"]\n",
    "area_by_type = roads.groupby(\"type\")[\"road_area_km2\"].sum()\n",
    "print(area_by_type)"
   ]
  }
 ],
 "metadata": {
  "kernelspec": {
   "display_name": "Python 3 (ipykernel)",
   "language": "python",
   "name": "python3"
  },
  "language_info": {
   "codemirror_mode": {
    "name": "ipython",
    "version": 3
   },
   "file_extension": ".py",
   "mimetype": "text/x-python",
   "name": "python",
   "nbconvert_exporter": "python",
   "pygments_lexer": "ipython3",
   "version": "3.12.4"
  }
 },
 "nbformat": 4,
 "nbformat_minor": 5
}
