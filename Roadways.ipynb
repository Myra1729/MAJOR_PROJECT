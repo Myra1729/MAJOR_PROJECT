{
 "cells": [
  {
   "cell_type": "code",
   "execution_count": 1,
   "id": "21045b41-c8ae-47d0-beec-8020830e0765",
   "metadata": {},
   "outputs": [
    {
     "name": "stdout",
     "output_type": "stream",
     "text": [
      "type\n",
      "primary           7.283480\n",
      "primary_link      0.036926\n",
      "secondary         5.919285\n",
      "secondary_link    0.025061\n",
      "trunk             2.135525\n",
      "trunk_link        0.060395\n",
      "Name: road_area_km2, dtype: float64\n",
      "Total Map Area: 3794.3891958479276 sq. km\n"
     ]
    },
    {
     "name": "stderr",
     "output_type": "stream",
     "text": [
      "C:\\Users\\ghosh\\AppData\\Local\\Temp\\ipykernel_36168\\529134363.py:12: DeprecationWarning: The 'unary_union' attribute is deprecated, use the 'union_all()' method instead.\n",
      "  map_boundary = roads.unary_union.convex_hull\n"
     ]
    }
   ],
   "source": [
    "import geopandas as gpd\n",
    "roads = gpd.read_file(\"C:\\\\Users\\\\ghosh\\\\Downloads\\\\maps\\\\kolkata\\\\shape\\\\roads.shp\")# Load the roads shapefile\n",
    "roads = roads.to_crs(epsg=32645)  \n",
    "selected_types = [\"primary\", \"secondary\", \"trunk\", \"primary_link\", \"secondary_link\", \"trunk_link\"]\n",
    "roads = roads[roads[\"type\"].isin(selected_types)]\n",
    "road_widths = {\"primary\": 0.010,\"secondary\": 0.007,\"trunk\": 0.007,\"primary_link\": 0.007,\"secondary_link\": 0.0055,\"trunk_link\": 0.0055}\n",
    "roads[\"width_km\"] = roads[\"type\"].map(road_widths)\n",
    "roads[\"length_km\"] = roads.geometry.length/1000  # Compute road lengths in km\n",
    "roads[\"road_area_km2\"] = roads[\"length_km\"] * roads[\"width_km\"]\n",
    "area_by_type = roads.groupby(\"type\")[\"road_area_km2\"].sum()\n",
    "print(area_by_type)\n",
    "map_boundary = roads.unary_union.convex_hull\n",
    "total_map_area = map_boundary.area\n",
    "print(\"Total Map Area:\", total_map_area/1000000, \"sq. km\")"
   ]
  },
  {
   "cell_type": "code",
   "execution_count": null,
   "id": "25c951a8-fb05-4f39-b08e-c5b06ccde16c",
   "metadata": {},
   "outputs": [],
   "source": []
  }
 ],
 "metadata": {
  "kernelspec": {
   "display_name": "Python 3 (ipykernel)",
   "language": "python",
   "name": "python3"
  },
  "language_info": {
   "codemirror_mode": {
    "name": "ipython",
    "version": 3
   },
   "file_extension": ".py",
   "mimetype": "text/x-python",
   "name": "python",
   "nbconvert_exporter": "python",
   "pygments_lexer": "ipython3",
   "version": "3.12.4"
  }
 },
 "nbformat": 4,
 "nbformat_minor": 5
}
